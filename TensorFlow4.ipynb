{
  "nbformat": 4,
  "nbformat_minor": 0,
  "metadata": {
    "colab": {
      "name": "TensorFlow4.ipynb",
      "provenance": [],
      "authorship_tag": "ABX9TyO7HRSK/cmUL5vhF6hk14zX",
      "include_colab_link": true
    },
    "kernelspec": {
      "name": "python3",
      "display_name": "Python 3"
    },
    "language_info": {
      "name": "python"
    },
    "accelerator": "GPU",
    "widgets": {
      "application/vnd.jupyter.widget-state+json": {
        "8b1e43190d184d0fb0e506187a43c4c9": {
          "model_module": "@jupyter-widgets/controls",
          "model_name": "HBoxModel",
          "model_module_version": "1.5.0",
          "state": {
            "_view_name": "HBoxView",
            "_dom_classes": [],
            "_model_name": "HBoxModel",
            "_view_module": "@jupyter-widgets/controls",
            "_model_module_version": "1.5.0",
            "_view_count": null,
            "_view_module_version": "1.5.0",
            "box_style": "",
            "layout": "IPY_MODEL_b7ed5ee7cfc04c48930ac40189e2569a",
            "_model_module": "@jupyter-widgets/controls",
            "children": [
              "IPY_MODEL_5d727b924050494985c2a8d64659c946",
              "IPY_MODEL_91721b6c869545cc94bfb9014c670ecf"
            ]
          }
        },
        "b7ed5ee7cfc04c48930ac40189e2569a": {
          "model_module": "@jupyter-widgets/base",
          "model_name": "LayoutModel",
          "model_module_version": "1.2.0",
          "state": {
            "_view_name": "LayoutView",
            "grid_template_rows": null,
            "right": null,
            "justify_content": null,
            "_view_module": "@jupyter-widgets/base",
            "overflow": null,
            "_model_module_version": "1.2.0",
            "_view_count": null,
            "flex_flow": null,
            "width": null,
            "min_width": null,
            "border": null,
            "align_items": null,
            "bottom": null,
            "_model_module": "@jupyter-widgets/base",
            "top": null,
            "grid_column": null,
            "overflow_y": null,
            "overflow_x": null,
            "grid_auto_flow": null,
            "grid_area": null,
            "grid_template_columns": null,
            "flex": null,
            "_model_name": "LayoutModel",
            "justify_items": null,
            "grid_row": null,
            "max_height": null,
            "align_content": null,
            "visibility": null,
            "align_self": null,
            "height": null,
            "min_height": null,
            "padding": null,
            "grid_auto_rows": null,
            "grid_gap": null,
            "max_width": null,
            "order": null,
            "_view_module_version": "1.2.0",
            "grid_template_areas": null,
            "object_position": null,
            "object_fit": null,
            "grid_auto_columns": null,
            "margin": null,
            "display": null,
            "left": null
          }
        },
        "5d727b924050494985c2a8d64659c946": {
          "model_module": "@jupyter-widgets/controls",
          "model_name": "FloatProgressModel",
          "model_module_version": "1.5.0",
          "state": {
            "_view_name": "ProgressView",
            "style": "IPY_MODEL_651512dd181044909d1469d23f5463ad",
            "_dom_classes": [],
            "description": "Dl Completed...: 100%",
            "_model_name": "FloatProgressModel",
            "bar_style": "success",
            "max": 4,
            "_view_module": "@jupyter-widgets/controls",
            "_model_module_version": "1.5.0",
            "value": 4,
            "_view_count": null,
            "_view_module_version": "1.5.0",
            "orientation": "horizontal",
            "min": 0,
            "description_tooltip": null,
            "_model_module": "@jupyter-widgets/controls",
            "layout": "IPY_MODEL_c4f17a8b2f4840b0ab334ce558cb79f3"
          }
        },
        "91721b6c869545cc94bfb9014c670ecf": {
          "model_module": "@jupyter-widgets/controls",
          "model_name": "HTMLModel",
          "model_module_version": "1.5.0",
          "state": {
            "_view_name": "HTMLView",
            "style": "IPY_MODEL_67b9ed9a4b534d36bc5edc7de6be9c8d",
            "_dom_classes": [],
            "description": "",
            "_model_name": "HTMLModel",
            "placeholder": "​",
            "_view_module": "@jupyter-widgets/controls",
            "_model_module_version": "1.5.0",
            "value": " 4/4 [00:06&lt;00:00,  1.51s/ file]",
            "_view_count": null,
            "_view_module_version": "1.5.0",
            "description_tooltip": null,
            "_model_module": "@jupyter-widgets/controls",
            "layout": "IPY_MODEL_4a476a01e5da4227b01168815209224a"
          }
        },
        "651512dd181044909d1469d23f5463ad": {
          "model_module": "@jupyter-widgets/controls",
          "model_name": "ProgressStyleModel",
          "model_module_version": "1.5.0",
          "state": {
            "_view_name": "StyleView",
            "_model_name": "ProgressStyleModel",
            "description_width": "initial",
            "_view_module": "@jupyter-widgets/base",
            "_model_module_version": "1.5.0",
            "_view_count": null,
            "_view_module_version": "1.2.0",
            "bar_color": null,
            "_model_module": "@jupyter-widgets/controls"
          }
        },
        "c4f17a8b2f4840b0ab334ce558cb79f3": {
          "model_module": "@jupyter-widgets/base",
          "model_name": "LayoutModel",
          "model_module_version": "1.2.0",
          "state": {
            "_view_name": "LayoutView",
            "grid_template_rows": null,
            "right": null,
            "justify_content": null,
            "_view_module": "@jupyter-widgets/base",
            "overflow": null,
            "_model_module_version": "1.2.0",
            "_view_count": null,
            "flex_flow": null,
            "width": null,
            "min_width": null,
            "border": null,
            "align_items": null,
            "bottom": null,
            "_model_module": "@jupyter-widgets/base",
            "top": null,
            "grid_column": null,
            "overflow_y": null,
            "overflow_x": null,
            "grid_auto_flow": null,
            "grid_area": null,
            "grid_template_columns": null,
            "flex": null,
            "_model_name": "LayoutModel",
            "justify_items": null,
            "grid_row": null,
            "max_height": null,
            "align_content": null,
            "visibility": null,
            "align_self": null,
            "height": null,
            "min_height": null,
            "padding": null,
            "grid_auto_rows": null,
            "grid_gap": null,
            "max_width": null,
            "order": null,
            "_view_module_version": "1.2.0",
            "grid_template_areas": null,
            "object_position": null,
            "object_fit": null,
            "grid_auto_columns": null,
            "margin": null,
            "display": null,
            "left": null
          }
        },
        "67b9ed9a4b534d36bc5edc7de6be9c8d": {
          "model_module": "@jupyter-widgets/controls",
          "model_name": "DescriptionStyleModel",
          "model_module_version": "1.5.0",
          "state": {
            "_view_name": "StyleView",
            "_model_name": "DescriptionStyleModel",
            "description_width": "",
            "_view_module": "@jupyter-widgets/base",
            "_model_module_version": "1.5.0",
            "_view_count": null,
            "_view_module_version": "1.2.0",
            "_model_module": "@jupyter-widgets/controls"
          }
        },
        "4a476a01e5da4227b01168815209224a": {
          "model_module": "@jupyter-widgets/base",
          "model_name": "LayoutModel",
          "model_module_version": "1.2.0",
          "state": {
            "_view_name": "LayoutView",
            "grid_template_rows": null,
            "right": null,
            "justify_content": null,
            "_view_module": "@jupyter-widgets/base",
            "overflow": null,
            "_model_module_version": "1.2.0",
            "_view_count": null,
            "flex_flow": null,
            "width": null,
            "min_width": null,
            "border": null,
            "align_items": null,
            "bottom": null,
            "_model_module": "@jupyter-widgets/base",
            "top": null,
            "grid_column": null,
            "overflow_y": null,
            "overflow_x": null,
            "grid_auto_flow": null,
            "grid_area": null,
            "grid_template_columns": null,
            "flex": null,
            "_model_name": "LayoutModel",
            "justify_items": null,
            "grid_row": null,
            "max_height": null,
            "align_content": null,
            "visibility": null,
            "align_self": null,
            "height": null,
            "min_height": null,
            "padding": null,
            "grid_auto_rows": null,
            "grid_gap": null,
            "max_width": null,
            "order": null,
            "_view_module_version": "1.2.0",
            "grid_template_areas": null,
            "object_position": null,
            "object_fit": null,
            "grid_auto_columns": null,
            "margin": null,
            "display": null,
            "left": null
          }
        }
      }
    }
  },
  "cells": [
    {
      "cell_type": "markdown",
      "metadata": {
        "id": "view-in-github",
        "colab_type": "text"
      },
      "source": [
        "<a href=\"https://colab.research.google.com/github/Vaish-922/TensorFlowSMP/blob/main/TensorFlow4.ipynb\" target=\"_parent\"><img src=\"https://colab.research.google.com/assets/colab-badge.svg\" alt=\"Open In Colab\"/></a>"
      ]
    },
    {
      "cell_type": "code",
      "metadata": {
        "id": "QofUkp53MlFS"
      },
      "source": [
        "import numpy as np\n",
        "import tensorflow as tf\n",
        "import matplotlib.pyplot as plt\n",
        "import tensorflow_datasets as tfds\n",
        "from tensorflow import keras\n",
        "from keras.layers import Dense, Flatten, Conv2D, MaxPool2D\n",
        "from keras.models import Sequential"
      ],
      "execution_count": null,
      "outputs": []
    },
    {
      "cell_type": "code",
      "metadata": {
        "colab": {
          "base_uri": "https://localhost:8080/",
          "height": 200,
          "referenced_widgets": [
            "8b1e43190d184d0fb0e506187a43c4c9",
            "b7ed5ee7cfc04c48930ac40189e2569a",
            "5d727b924050494985c2a8d64659c946",
            "91721b6c869545cc94bfb9014c670ecf",
            "651512dd181044909d1469d23f5463ad",
            "c4f17a8b2f4840b0ab334ce558cb79f3",
            "67b9ed9a4b534d36bc5edc7de6be9c8d",
            "4a476a01e5da4227b01168815209224a"
          ]
        },
        "id": "oqyHIrvWNSMW",
        "outputId": "e80b2af5-bdcb-4abb-ef78-ec2e1aa47004"
      },
      "source": [
        "X_train, y_train = tfds.as_numpy(tfds.load(\n",
        "    'mnist',\n",
        "    split = 'train',\n",
        "    batch_size = -1,\n",
        "    as_supervised = True\n",
        "))\n",
        "\n",
        "X_test, y_test = tfds.as_numpy(tfds.load(\n",
        "    'mnist',\n",
        "    split = 'test',\n",
        "    batch_size = -1,\n",
        "    as_supervised = True\n",
        "))\n",
        "\n"
      ],
      "execution_count": null,
      "outputs": [
        {
          "output_type": "stream",
          "text": [
            "\u001b[1mDownloading and preparing dataset mnist/3.0.1 (download: 11.06 MiB, generated: 21.00 MiB, total: 32.06 MiB) to /root/tensorflow_datasets/mnist/3.0.1...\u001b[0m\n"
          ],
          "name": "stdout"
        },
        {
          "output_type": "stream",
          "text": [
            "WARNING:absl:Dataset mnist is hosted on GCS. It will automatically be downloaded to your\n",
            "local data directory. If you'd instead prefer to read directly from our public\n",
            "GCS bucket (recommended if you're running on GCP), you can instead pass\n",
            "`try_gcs=True` to `tfds.load` or set `data_dir=gs://tfds-data/datasets`.\n",
            "\n"
          ],
          "name": "stderr"
        },
        {
          "output_type": "display_data",
          "data": {
            "application/vnd.jupyter.widget-view+json": {
              "model_id": "8b1e43190d184d0fb0e506187a43c4c9",
              "version_minor": 0,
              "version_major": 2
            },
            "text/plain": [
              "HBox(children=(FloatProgress(value=0.0, description='Dl Completed...', max=4.0, style=ProgressStyle(descriptio…"
            ]
          },
          "metadata": {
            "tags": []
          }
        },
        {
          "output_type": "stream",
          "text": [
            "\n",
            "\n",
            "\u001b[1mDataset mnist downloaded and prepared to /root/tensorflow_datasets/mnist/3.0.1. Subsequent calls will reuse this data.\u001b[0m\n"
          ],
          "name": "stdout"
        }
      ]
    },
    {
      "cell_type": "code",
      "metadata": {
        "colab": {
          "base_uri": "https://localhost:8080/"
        },
        "id": "CzGMLOBlN2Vy",
        "outputId": "13ec4390-2d8f-43cd-952d-9b7d28314452"
      },
      "source": [
        "print(X_train.shape)\n",
        "print(X_test.shape)\n"
      ],
      "execution_count": null,
      "outputs": [
        {
          "output_type": "stream",
          "text": [
            "(60000, 28, 28, 1)\n",
            "(10000, 28, 28, 1)\n"
          ],
          "name": "stdout"
        }
      ]
    },
    {
      "cell_type": "code",
      "metadata": {
        "colab": {
          "base_uri": "https://localhost:8080/",
          "height": 282
        },
        "id": "jlxL3t5RPsrh",
        "outputId": "a4bd50db-61d8-42e2-d8cd-f83239cf24d5"
      },
      "source": [
        "\n",
        "plt.imshow(X_train[100].reshape(28,28))"
      ],
      "execution_count": null,
      "outputs": [
        {
          "output_type": "execute_result",
          "data": {
            "text/plain": [
              "<matplotlib.image.AxesImage at 0x7f55f1b3efd0>"
            ]
          },
          "metadata": {
            "tags": []
          },
          "execution_count": 14
        },
        {
          "output_type": "display_data",
          "data": {
            "image/png": "[encoded data removed]",
            "text/plain": [
              "<Figure size 432x288 with 1 Axes>"
            ]
          },
          "metadata": {
            "tags": [],
            "needs_background": "light"
          }
        }
      ]
    },
    {
      "cell_type": "code",
      "metadata": {
        "id": "zHJ19woDOd_m"
      },
      "source": [
        "def build_m1(X_train):\n",
        "  model1= Sequential([\n",
        "                      Conv2D(32,(3,3),activation='relu', input_shape=X_train.shape[1:]),\n",
        "                      MaxPool2D((2,2)),\n",
        "                      Conv2D(16,(3,3),activation='sigmoid'),\n",
        "                      MaxPool2D((2,2)),\n",
        "                      Flatten(),\n",
        "                      Dense(100, activation='relu'),\n",
        "                      Dense(10,activation='softmax')\n",
        "  ])\n",
        "  return model1"
      ],
      "execution_count": null,
      "outputs": []
    },
    {
      "cell_type": "code",
      "metadata": {
        "id": "rbys8JUJQl_o"
      },
      "source": [
        "def build_m2(X_train):\n",
        "  model2 = Sequential([\n",
        "                      Conv2D(64,(3,3),activation='relu', input_shape= X_train.shape[1:]),\n",
        "                      MaxPool2D((2,2)),\n",
        "                      Conv2D(32,(3,3),activation='sigmoid'),\n",
        "                      MaxPool2D((2,2)),\n",
        "                      Conv2D(16,(2,2),activation='sigmoid'),\n",
        "                      MaxPool2D((2,2)),\n",
        "                      Flatten(),\n",
        "                      Dense(32, activation='relu'),\n",
        "                      Dense(10,activation='softmax')\n",
        "                      \n",
        "  ])\n",
        "  return model2"
      ],
      "execution_count": null,
      "outputs": []
    },
    {
      "cell_type": "code",
      "metadata": {
        "colab": {
          "base_uri": "https://localhost:8080/"
        },
        "id": "XtFHTJ3aTQ49",
        "outputId": "b052630b-5e2c-402e-a902-6c00b27f55f8"
      },
      "source": [
        "m1=build_m1(X_train)\n",
        "m2=build_m2(X_train)\n",
        "m1.summary()\n",
        "m2.summary()"
      ],
      "execution_count": null,
      "outputs": [
        {
          "output_type": "stream",
          "text": [
            "Model: \"sequential_10\"\n",
            "_________________________________________________________________\n",
            "Layer (type)                 Output Shape              Param #   \n",
            "=================================================================\n",
            "conv2d_26 (Conv2D)           (None, 26, 26, 32)        320       \n",
            "_________________________________________________________________\n",
            "max_pooling2d_26 (MaxPooling (None, 13, 13, 32)        0         \n",
            "_________________________________________________________________\n",
            "conv2d_27 (Conv2D)           (None, 11, 11, 16)        4624      \n",
            "_________________________________________________________________\n",
            "max_pooling2d_27 (MaxPooling (None, 5, 5, 16)          0         \n",
            "_________________________________________________________________\n",
            "flatten_10 (Flatten)         (None, 400)               0         \n",
            "_________________________________________________________________\n",
            "dense_21 (Dense)             (None, 100)               40100     \n",
            "_________________________________________________________________\n",
            "dense_22 (Dense)             (None, 10)                1010      \n",
            "=================================================================\n",
            "Total params: 46,054\n",
            "Trainable params: 46,054\n",
            "Non-trainable params: 0\n",
            "_________________________________________________________________\n",
            "Model: \"sequential_11\"\n",
            "_________________________________________________________________\n",
            "Layer (type)                 Output Shape              Param #   \n",
            "=================================================================\n",
            "conv2d_28 (Conv2D)           (None, 26, 26, 64)        640       \n",
            "_________________________________________________________________\n",
            "max_pooling2d_28 (MaxPooling (None, 13, 13, 64)        0         \n",
            "_________________________________________________________________\n",
            "conv2d_29 (Conv2D)           (None, 11, 11, 32)        18464     \n",
            "_________________________________________________________________\n",
            "max_pooling2d_29 (MaxPooling (None, 5, 5, 32)          0         \n",
            "_________________________________________________________________\n",
            "conv2d_30 (Conv2D)           (None, 4, 4, 16)          2064      \n",
            "_________________________________________________________________\n",
            "max_pooling2d_30 (MaxPooling (None, 2, 2, 16)          0         \n",
            "_________________________________________________________________\n",
            "flatten_11 (Flatten)         (None, 64)                0         \n",
            "_________________________________________________________________\n",
            "dense_23 (Dense)             (None, 32)                2080      \n",
            "_________________________________________________________________\n",
            "dense_24 (Dense)             (None, 10)                330       \n",
            "=================================================================\n",
            "Total params: 23,578\n",
            "Trainable params: 23,578\n",
            "Non-trainable params: 0\n",
            "_________________________________________________________________\n"
          ],
          "name": "stdout"
        }
      ]
    },
    {
      "cell_type": "code",
      "metadata": {
        "id": "u3SoWMFXT6K-"
      },
      "source": [
        "m1.compile(optimizer='adam', loss = 'sparse_categorical_crossentropy', metrics=['accuracy'])\n",
        "m2.compile(optimizer='adam', loss = 'sparse_categorical_crossentropy', metrics=['accuracy'])"
      ],
      "execution_count": null,
      "outputs": []
    },
    {
      "cell_type": "code",
      "metadata": {
        "colab": {
          "base_uri": "https://localhost:8080/"
        },
        "id": "qluaUk5fUEzN",
        "outputId": "f4169962-7b24-4b5c-cc4b-c8d82a74ca2c"
      },
      "source": [
        "his1=m1.fit(X_train,y_train,epochs = 20, validation_data=(X_test,y_test))\n",
        "his2=m2.fit(X_train,y_train,epochs = 20, validation_data=(X_test,y_test))"
      ],
      "execution_count": null,
      "outputs": [
        {
          "output_type": "stream",
          "text": [
            "Epoch 1/20\n",
            "1875/1875 [==============================] - 48s 3ms/step - loss: 0.4925 - accuracy: 0.8528 - val_loss: 0.0954 - val_accuracy: 0.9708\n",
            "Epoch 2/20\n",
            "1875/1875 [==============================] - 5s 3ms/step - loss: 0.1035 - accuracy: 0.9670 - val_loss: 0.0674 - val_accuracy: 0.9783\n",
            "Epoch 3/20\n",
            "1875/1875 [==============================] - 5s 3ms/step - loss: 0.0790 - accuracy: 0.9752 - val_loss: 0.0650 - val_accuracy: 0.9799\n",
            "Epoch 4/20\n",
            "1875/1875 [==============================] - 5s 3ms/step - loss: 0.0632 - accuracy: 0.9806 - val_loss: 0.0558 - val_accuracy: 0.9823\n",
            "Epoch 5/20\n",
            "1875/1875 [==============================] - 5s 3ms/step - loss: 0.0564 - accuracy: 0.9816 - val_loss: 0.0589 - val_accuracy: 0.9807\n",
            "Epoch 6/20\n",
            "1875/1875 [==============================] - 5s 3ms/step - loss: 0.0531 - accuracy: 0.9824 - val_loss: 0.0573 - val_accuracy: 0.9816\n",
            "Epoch 7/20\n",
            "1875/1875 [==============================] - 5s 3ms/step - loss: 0.0463 - accuracy: 0.9847 - val_loss: 0.0552 - val_accuracy: 0.9823\n",
            "Epoch 8/20\n",
            "1875/1875 [==============================] - 5s 3ms/step - loss: 0.0398 - accuracy: 0.9869 - val_loss: 0.0513 - val_accuracy: 0.9841\n",
            "Epoch 9/20\n",
            "1875/1875 [==============================] - 5s 3ms/step - loss: 0.0375 - accuracy: 0.9878 - val_loss: 0.0513 - val_accuracy: 0.9837\n",
            "Epoch 10/20\n",
            "1875/1875 [==============================] - 5s 3ms/step - loss: 0.0381 - accuracy: 0.9865 - val_loss: 0.0440 - val_accuracy: 0.9854\n",
            "Epoch 11/20\n",
            "1875/1875 [==============================] - 5s 3ms/step - loss: 0.0307 - accuracy: 0.9898 - val_loss: 0.0782 - val_accuracy: 0.9777\n",
            "Epoch 12/20\n",
            "1875/1875 [==============================] - 5s 3ms/step - loss: 0.0346 - accuracy: 0.9886 - val_loss: 0.0505 - val_accuracy: 0.9859\n",
            "Epoch 13/20\n",
            "1875/1875 [==============================] - 5s 3ms/step - loss: 0.0306 - accuracy: 0.9897 - val_loss: 0.0425 - val_accuracy: 0.9877\n",
            "Epoch 14/20\n",
            "1875/1875 [==============================] - 5s 3ms/step - loss: 0.0268 - accuracy: 0.9910 - val_loss: 0.0575 - val_accuracy: 0.9833\n",
            "Epoch 15/20\n",
            "1875/1875 [==============================] - 5s 3ms/step - loss: 0.0305 - accuracy: 0.9894 - val_loss: 0.0456 - val_accuracy: 0.9876\n",
            "Epoch 16/20\n",
            "1875/1875 [==============================] - 5s 3ms/step - loss: 0.0278 - accuracy: 0.9903 - val_loss: 0.0475 - val_accuracy: 0.9862\n",
            "Epoch 17/20\n",
            "1875/1875 [==============================] - 5s 3ms/step - loss: 0.0236 - accuracy: 0.9917 - val_loss: 0.0462 - val_accuracy: 0.9871\n",
            "Epoch 18/20\n",
            "1875/1875 [==============================] - 5s 3ms/step - loss: 0.0222 - accuracy: 0.9925 - val_loss: 0.0537 - val_accuracy: 0.9854\n",
            "Epoch 19/20\n",
            "1875/1875 [==============================] - 5s 3ms/step - loss: 0.0256 - accuracy: 0.9911 - val_loss: 0.0459 - val_accuracy: 0.9869\n",
            "Epoch 20/20\n",
            "1875/1875 [==============================] - 5s 3ms/step - loss: 0.0192 - accuracy: 0.9934 - val_loss: 0.0493 - val_accuracy: 0.9864\n",
            "Epoch 1/20\n",
            "1875/1875 [==============================] - 7s 3ms/step - loss: 1.0017 - accuracy: 0.7174 - val_loss: 0.1327 - val_accuracy: 0.9610\n",
            "Epoch 2/20\n",
            "1875/1875 [==============================] - 6s 3ms/step - loss: 0.1320 - accuracy: 0.9620 - val_loss: 0.0972 - val_accuracy: 0.9703\n",
            "Epoch 3/20\n",
            "1875/1875 [==============================] - 6s 3ms/step - loss: 0.1017 - accuracy: 0.9692 - val_loss: 0.0752 - val_accuracy: 0.9756\n",
            "Epoch 4/20\n",
            "1875/1875 [==============================] - 6s 3ms/step - loss: 0.0901 - accuracy: 0.9713 - val_loss: 0.0783 - val_accuracy: 0.9752\n",
            "Epoch 5/20\n",
            "1875/1875 [==============================] - 6s 3ms/step - loss: 0.0848 - accuracy: 0.9729 - val_loss: 0.0737 - val_accuracy: 0.9768\n",
            "Epoch 6/20\n",
            "1875/1875 [==============================] - 6s 3ms/step - loss: 0.0791 - accuracy: 0.9752 - val_loss: 0.0745 - val_accuracy: 0.9766\n",
            "Epoch 7/20\n",
            "1875/1875 [==============================] - 6s 3ms/step - loss: 0.0739 - accuracy: 0.9765 - val_loss: 0.0768 - val_accuracy: 0.9764\n",
            "Epoch 8/20\n",
            "1875/1875 [==============================] - 5s 3ms/step - loss: 0.0662 - accuracy: 0.9787 - val_loss: 0.0647 - val_accuracy: 0.9779\n",
            "Epoch 9/20\n",
            "1875/1875 [==============================] - 6s 3ms/step - loss: 0.0700 - accuracy: 0.9785 - val_loss: 0.0718 - val_accuracy: 0.9773\n",
            "Epoch 10/20\n",
            "1875/1875 [==============================] - 6s 3ms/step - loss: 0.0698 - accuracy: 0.9784 - val_loss: 0.0584 - val_accuracy: 0.9811\n",
            "Epoch 11/20\n",
            "1875/1875 [==============================] - 6s 3ms/step - loss: 0.0641 - accuracy: 0.9797 - val_loss: 0.0612 - val_accuracy: 0.9808\n",
            "Epoch 12/20\n",
            "1875/1875 [==============================] - 6s 3ms/step - loss: 0.0601 - accuracy: 0.9801 - val_loss: 0.0638 - val_accuracy: 0.9802\n",
            "Epoch 13/20\n",
            "1875/1875 [==============================] - 6s 3ms/step - loss: 0.0648 - accuracy: 0.9791 - val_loss: 0.0651 - val_accuracy: 0.9797\n",
            "Epoch 14/20\n",
            "1875/1875 [==============================] - 6s 3ms/step - loss: 0.0606 - accuracy: 0.9800 - val_loss: 0.0617 - val_accuracy: 0.9805\n",
            "Epoch 15/20\n",
            "1875/1875 [==============================] - 6s 3ms/step - loss: 0.0614 - accuracy: 0.9801 - val_loss: 0.0623 - val_accuracy: 0.9794\n",
            "Epoch 16/20\n",
            "1875/1875 [==============================] - 6s 3ms/step - loss: 0.0586 - accuracy: 0.9818 - val_loss: 0.0611 - val_accuracy: 0.9806\n",
            "Epoch 17/20\n",
            "1875/1875 [==============================] - 6s 3ms/step - loss: 0.0566 - accuracy: 0.9826 - val_loss: 0.0588 - val_accuracy: 0.9821\n",
            "Epoch 18/20\n",
            "1875/1875 [==============================] - 6s 3ms/step - loss: 0.0546 - accuracy: 0.9810 - val_loss: 0.0571 - val_accuracy: 0.9818\n",
            "Epoch 19/20\n",
            "1875/1875 [==============================] - 6s 3ms/step - loss: 0.0530 - accuracy: 0.9830 - val_loss: 0.0570 - val_accuracy: 0.9839\n",
            "Epoch 20/20\n",
            "1875/1875 [==============================] - 6s 3ms/step - loss: 0.0533 - accuracy: 0.9835 - val_loss: 0.0551 - val_accuracy: 0.9831\n"
          ],
          "name": "stdout"
        }
      ]
    },
    {
      "cell_type": "code",
      "metadata": {
        "colab": {
          "base_uri": "https://localhost:8080/",
          "height": 282
        },
        "id": "hyIojvFOVfdn",
        "outputId": "41096d35-773b-408c-b97b-5485b77494ec"
      },
      "source": [
        "img = X_test[200]\n",
        "plt.imshow(img.reshape(28,28))\n",
        "print(y_test[200])"
      ],
      "execution_count": null,
      "outputs": [
        {
          "output_type": "stream",
          "text": [
            "2\n"
          ],
          "name": "stdout"
        },
        {
          "output_type": "display_data",
          "data": {
            "image/png": "[encoded data removed]",
            "text/plain": [
              "<Figure size 432x288 with 1 Axes>"
            ]
          },
          "metadata": {
            "tags": [],
            "needs_background": "light"
          }
        }
      ]
    },
    {
      "cell_type": "code",
      "metadata": {
        "colab": {
          "base_uri": "https://localhost:8080/"
        },
        "id": "pL5VT7RsWX44",
        "outputId": "ac43f1ca-c788-4d14-f75a-8a578eb3e0f8"
      },
      "source": [
        "pred = m1.predict(img.reshape(1,28,28,1))[0]\n",
        "print(pred)\n",
        "\n",
        "pred = m2.predict(img.reshape(1,28,28,1))[0]\n",
        "print(pred)"
      ],
      "execution_count": null,
      "outputs": [
        {
          "output_type": "stream",
          "text": [
            "[1.6304826e-08 9.1615773e-09 9.9999988e-01 5.7310690e-09 1.1350884e-08\n",
            " 1.4650737e-13 3.8001319e-10 1.1696014e-09 7.0042937e-08 7.5227213e-17]\n",
            "[1.1597492e-06 7.1291493e-07 9.9999738e-01 5.4450786e-09 1.5275450e-07\n",
            " 5.0366227e-13 4.9570912e-07 9.5548609e-09 2.2948653e-08 4.9871254e-09]\n"
          ],
          "name": "stdout"
        }
      ]
    },
    {
      "cell_type": "code",
      "metadata": {
        "colab": {
          "base_uri": "https://localhost:8080/",
          "height": 570
        },
        "id": "cqqrTw0EVxmp",
        "outputId": "cd145b9a-96c6-4a2c-a38b-5c11fa7733f4"
      },
      "source": [
        "plt.figure()\n",
        "fig,a=plt.subplots(2,2,figsize=(9,9))\n",
        "\n",
        "a[0,0].plot(his1.history['loss'])\n",
        "a[0,0].plot(his1.history['val_loss'])\n",
        "a[0,0].legend(['Training Loss', 'Validation Loss'])\n",
        "a[0,0].title.set_text('Model1-Loss')\n",
        "\n",
        "a[0,1].plot(his1.history['accuracy'])\n",
        "a[0,1].plot(his1.history['val_accuracy'])\n",
        "a[0,1].legend(['Training accuracy', 'Validation accuracy'])\n",
        "a[0,1].title.set_text('Model1-Accuracy')\n",
        "\n",
        "a[1,0].plot(his2.history['loss'])\n",
        "a[1,0].plot(his2.history['val_loss'])\n",
        "a[1,0].legend(['Training Loss', 'Validation Loss'])\n",
        "a[1,0].title.set_text('Model2-Loss')\n",
        "\n",
        "a[1,1].plot(his2.history['accuracy'])\n",
        "a[1,1].plot(his2.history['val_accuracy'])\n",
        "a[1,1].legend(['Training accuracy', 'Validation accuracy'])\n",
        "a[1,1].title.set_text('Model2-Accuracy')\n",
        "\n"
      ],
      "execution_count": null,
      "outputs": [
        {
          "output_type": "display_data",
          "data": {
            "text/plain": [
              "<Figure size 432x288 with 0 Axes>"
            ]
          },
          "metadata": {
            "tags": []
          }
        },
        {
          "output_type": "display_data",
          "data": {
            "image/png": "[encoded data removed]",
            "text/plain": [
              "<Figure size 648x648 with 4 Axes>"
            ]
          },
          "metadata": {
            "tags": [],
            "needs_background": "light"
          }
        }
      ]
    }
  ]
}